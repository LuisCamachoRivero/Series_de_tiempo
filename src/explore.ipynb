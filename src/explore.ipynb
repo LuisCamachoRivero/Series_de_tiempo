{
    "cells": [
        {
            "cell_type": "markdown",
            "metadata": {},
            "source": [
                "# Explore here"
            ]
        },
        {
            "cell_type": "code",
            "execution_count": 12,
            "metadata": {},
            "outputs": [],
            "source": [
                "# Your code here\n",
                "\n",
                "import pandas as pd\n",
                "import matplotlib.pyplot as plt\n",
                "import seaborn as sns"
            ]
        },
        {
            "cell_type": "code",
            "execution_count": 13,
            "metadata": {},
            "outputs": [],
            "source": [
                "df = pd.read_csv('../data/raw/Lake_Bilancino.csv')"
            ]
        },
        {
            "cell_type": "code",
            "execution_count": 14,
            "metadata": {},
            "outputs": [
                {
                    "data": {
                        "text/html": [
                            "<div>\n",
                            "<style scoped>\n",
                            "    .dataframe tbody tr th:only-of-type {\n",
                            "        vertical-align: middle;\n",
                            "    }\n",
                            "\n",
                            "    .dataframe tbody tr th {\n",
                            "        vertical-align: top;\n",
                            "    }\n",
                            "\n",
                            "    .dataframe thead th {\n",
                            "        text-align: right;\n",
                            "    }\n",
                            "</style>\n",
                            "<table border=\"1\" class=\"dataframe\">\n",
                            "  <thead>\n",
                            "    <tr style=\"text-align: right;\">\n",
                            "      <th></th>\n",
                            "      <th>Date</th>\n",
                            "      <th>Lake_Level</th>\n",
                            "    </tr>\n",
                            "  </thead>\n",
                            "  <tbody>\n",
                            "    <tr>\n",
                            "      <th>0</th>\n",
                            "      <td>03/06/2002</td>\n",
                            "      <td>249.43</td>\n",
                            "    </tr>\n",
                            "    <tr>\n",
                            "      <th>1</th>\n",
                            "      <td>04/06/2002</td>\n",
                            "      <td>249.43</td>\n",
                            "    </tr>\n",
                            "    <tr>\n",
                            "      <th>2</th>\n",
                            "      <td>05/06/2002</td>\n",
                            "      <td>249.43</td>\n",
                            "    </tr>\n",
                            "    <tr>\n",
                            "      <th>3</th>\n",
                            "      <td>06/06/2002</td>\n",
                            "      <td>249.43</td>\n",
                            "    </tr>\n",
                            "    <tr>\n",
                            "      <th>4</th>\n",
                            "      <td>07/06/2002</td>\n",
                            "      <td>249.44</td>\n",
                            "    </tr>\n",
                            "    <tr>\n",
                            "      <th>...</th>\n",
                            "      <td>...</td>\n",
                            "      <td>...</td>\n",
                            "    </tr>\n",
                            "    <tr>\n",
                            "      <th>6598</th>\n",
                            "      <td>26/06/2020</td>\n",
                            "      <td>250.85</td>\n",
                            "    </tr>\n",
                            "    <tr>\n",
                            "      <th>6599</th>\n",
                            "      <td>27/06/2020</td>\n",
                            "      <td>250.84</td>\n",
                            "    </tr>\n",
                            "    <tr>\n",
                            "      <th>6600</th>\n",
                            "      <td>28/06/2020</td>\n",
                            "      <td>250.83</td>\n",
                            "    </tr>\n",
                            "    <tr>\n",
                            "      <th>6601</th>\n",
                            "      <td>29/06/2020</td>\n",
                            "      <td>250.82</td>\n",
                            "    </tr>\n",
                            "    <tr>\n",
                            "      <th>6602</th>\n",
                            "      <td>30/06/2020</td>\n",
                            "      <td>250.80</td>\n",
                            "    </tr>\n",
                            "  </tbody>\n",
                            "</table>\n",
                            "<p>6603 rows × 2 columns</p>\n",
                            "</div>"
                        ],
                        "text/plain": [
                            "            Date  Lake_Level\n",
                            "0     03/06/2002      249.43\n",
                            "1     04/06/2002      249.43\n",
                            "2     05/06/2002      249.43\n",
                            "3     06/06/2002      249.43\n",
                            "4     07/06/2002      249.44\n",
                            "...          ...         ...\n",
                            "6598  26/06/2020      250.85\n",
                            "6599  27/06/2020      250.84\n",
                            "6600  28/06/2020      250.83\n",
                            "6601  29/06/2020      250.82\n",
                            "6602  30/06/2020      250.80\n",
                            "\n",
                            "[6603 rows x 2 columns]"
                        ]
                    },
                    "execution_count": 14,
                    "metadata": {},
                    "output_type": "execute_result"
                }
            ],
            "source": [
                "df2 =df[['Date','Lake_Level']]\n",
                "df2"
            ]
        },
        {
            "cell_type": "code",
            "execution_count": 15,
            "metadata": {},
            "outputs": [
                {
                    "name": "stderr",
                    "output_type": "stream",
                    "text": [
                        "/tmp/ipykernel_7582/3386817926.py:1: SettingWithCopyWarning: \n",
                        "A value is trying to be set on a copy of a slice from a DataFrame\n",
                        "\n",
                        "See the caveats in the documentation: https://pandas.pydata.org/pandas-docs/stable/user_guide/indexing.html#returning-a-view-versus-a-copy\n",
                        "  df2.drop('Date',axis=1,inplace=True)\n"
                    ]
                }
            ],
            "source": [
                "df2.drop('Date',axis=1,inplace=True)"
            ]
        },
        {
            "cell_type": "code",
            "execution_count": 16,
            "metadata": {},
            "outputs": [
                {
                    "data": {
                        "text/html": [
                            "<div>\n",
                            "<style scoped>\n",
                            "    .dataframe tbody tr th:only-of-type {\n",
                            "        vertical-align: middle;\n",
                            "    }\n",
                            "\n",
                            "    .dataframe tbody tr th {\n",
                            "        vertical-align: top;\n",
                            "    }\n",
                            "\n",
                            "    .dataframe thead th {\n",
                            "        text-align: right;\n",
                            "    }\n",
                            "</style>\n",
                            "<table border=\"1\" class=\"dataframe\">\n",
                            "  <thead>\n",
                            "    <tr style=\"text-align: right;\">\n",
                            "      <th></th>\n",
                            "      <th>Lake_Level</th>\n",
                            "    </tr>\n",
                            "  </thead>\n",
                            "  <tbody>\n",
                            "    <tr>\n",
                            "      <th>0</th>\n",
                            "      <td>249.43</td>\n",
                            "    </tr>\n",
                            "    <tr>\n",
                            "      <th>1</th>\n",
                            "      <td>249.43</td>\n",
                            "    </tr>\n",
                            "    <tr>\n",
                            "      <th>2</th>\n",
                            "      <td>249.43</td>\n",
                            "    </tr>\n",
                            "    <tr>\n",
                            "      <th>3</th>\n",
                            "      <td>249.43</td>\n",
                            "    </tr>\n",
                            "    <tr>\n",
                            "      <th>4</th>\n",
                            "      <td>249.44</td>\n",
                            "    </tr>\n",
                            "    <tr>\n",
                            "      <th>...</th>\n",
                            "      <td>...</td>\n",
                            "    </tr>\n",
                            "    <tr>\n",
                            "      <th>6598</th>\n",
                            "      <td>250.85</td>\n",
                            "    </tr>\n",
                            "    <tr>\n",
                            "      <th>6599</th>\n",
                            "      <td>250.84</td>\n",
                            "    </tr>\n",
                            "    <tr>\n",
                            "      <th>6600</th>\n",
                            "      <td>250.83</td>\n",
                            "    </tr>\n",
                            "    <tr>\n",
                            "      <th>6601</th>\n",
                            "      <td>250.82</td>\n",
                            "    </tr>\n",
                            "    <tr>\n",
                            "      <th>6602</th>\n",
                            "      <td>250.80</td>\n",
                            "    </tr>\n",
                            "  </tbody>\n",
                            "</table>\n",
                            "<p>6603 rows × 1 columns</p>\n",
                            "</div>"
                        ],
                        "text/plain": [
                            "      Lake_Level\n",
                            "0         249.43\n",
                            "1         249.43\n",
                            "2         249.43\n",
                            "3         249.43\n",
                            "4         249.44\n",
                            "...          ...\n",
                            "6598      250.85\n",
                            "6599      250.84\n",
                            "6600      250.83\n",
                            "6601      250.82\n",
                            "6602      250.80\n",
                            "\n",
                            "[6603 rows x 1 columns]"
                        ]
                    },
                    "execution_count": 16,
                    "metadata": {},
                    "output_type": "execute_result"
                }
            ],
            "source": [
                "df2"
            ]
        }
    ],
    "metadata": {
        "kernelspec": {
            "display_name": "Python 3",
            "language": "python",
            "name": "python3"
        },
        "language_info": {
            "codemirror_mode": {
                "name": "ipython",
                "version": 3
            },
            "file_extension": ".py",
            "mimetype": "text/x-python",
            "name": "python",
            "nbconvert_exporter": "python",
            "pygments_lexer": "ipython3",
            "version": "3.10.12"
        },
        "orig_nbformat": 4
    },
    "nbformat": 4,
    "nbformat_minor": 2
}
